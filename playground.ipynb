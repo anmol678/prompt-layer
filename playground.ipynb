{
 "cells": [
  {
   "cell_type": "code",
   "execution_count": 1,
   "metadata": {},
   "outputs": [],
   "source": [
    "import os\n",
    "import requests\n",
    "import json\n",
    "import re\n",
    "import asyncio"
   ]
  },
  {
   "cell_type": "code",
   "execution_count": 2,
   "metadata": {},
   "outputs": [],
   "source": [
    "import tiktoken\n",
    "enc = tiktoken.get_encoding(\"cl100k_base\")\n",
    "assert enc.decode(enc.encode(\"hello world\")) == \"hello world\""
   ]
  },
  {
   "cell_type": "code",
   "execution_count": 3,
   "metadata": {},
   "outputs": [],
   "source": [
    "from promptlayer.langchain.chat_models import PromptLayerChatOpenAI\n",
    "from promptlayer.langchain.llms import PromptLayerOpenAI\n",
    "from promptlayer.track import prompt\n",
    "# from langchain.llms import PromptLayerOpenAI\n",
    "from langchain.chains.summarize import load_summarize_chain\n",
    "from langchain.chains import LLMChain\n",
    "from langchain.text_splitter import RecursiveCharacterTextSplitter\n",
    "from langchain.prompts import PromptTemplate, FewShotPromptTemplate\n",
    "from langchain.prompts.chat import (\n",
    "    ChatPromptTemplate,\n",
    "    SystemMessagePromptTemplate,\n",
    "    HumanMessagePromptTemplate,\n",
    "    AIMessagePromptTemplate,\n",
    ")\n",
    "\n",
    "from langchain.schema import (\n",
    "    AIMessage,\n",
    "    HumanMessage,\n",
    "    SystemMessage\n",
    ")"
   ]
  },
  {
   "cell_type": "code",
   "execution_count": 4,
   "metadata": {},
   "outputs": [],
   "source": [
    "OPENAI_API_KEY = os.getenv(\"OPENAI_API_KEY\")\n",
    "# PROMPTLAYER_API_KEY = os.getenv(\"PROMPTLAYER_API_KEY\")\n",
    "model_name = \"gpt-3.5-turbo\"\n",
    "\n",
    "# llm = PromptLayerChatOpenAI(pl_tags=[\"Privacy Scorecard\"], model_name=model_name, temperature=0.3, openai_api_key=OPENAI_API_KEY)\n",
    "llm = PromptLayerOpenAI(pl_tags=[\"Testing\"], model_name=\"text-ada-001\", temperature=0.3, openai_api_key=OPENAI_API_KEY, return_pl_id=True)"
   ]
  },
  {
   "cell_type": "code",
   "execution_count": 8,
   "metadata": {},
   "outputs": [],
   "source": [
    "chain = LLMChain(llm=llm, prompt=PromptTemplate(template=\"analyze this text {try}\", input_variables=[\"try\"]))\n",
    "# response = chain.run(\"test\")"
   ]
  },
  {
   "cell_type": "code",
   "execution_count": 9,
   "metadata": {},
   "outputs": [
    {
     "name": "stdout",
     "output_type": "stream",
     "text": [
      "{'try': 'try', 'text': ' :\\n\\nHow to make a perfect scrambled egg\\n\\nThere is no one perfect way to make a scrambled egg. Some people use a fork to mash the eggs, while others use a whisk or a food processor. Some make an egg mixture together of just eggs, salt, and pepper, while others add in like ingredients like bacon, sausage, or ham.'}\n",
      "<class 'dict'>\n"
     ]
    }
   ],
   "source": [
    "print(response)\n",
    "print(type(response))"
   ]
  },
  {
   "cell_type": "code",
   "execution_count": null,
   "metadata": {},
   "outputs": [],
   "source": [
    "llm_results = llm.generate([\"hello world\"])\n",
    "for res in llm_results.generations:\n",
    "    print(\"pl request id: \", res[0].generation_info[\"pl_request_id\"])"
   ]
  },
  {
   "cell_type": "code",
   "execution_count": null,
   "metadata": {},
   "outputs": [],
   "source": [
    "prompt(request_id=llm_results.generations[0][0].generation_info[\"pl_request_id\"], prompt_name=\"TestPrompt\", prompt_input_variables={})"
   ]
  }
 ],
 "metadata": {
  "kernelspec": {
   "display_name": "venv",
   "language": "python",
   "name": "python3"
  },
  "language_info": {
   "codemirror_mode": {
    "name": "ipython",
    "version": 3
   },
   "file_extension": ".py",
   "mimetype": "text/x-python",
   "name": "python",
   "nbconvert_exporter": "python",
   "pygments_lexer": "ipython3",
   "version": "3.11.2"
  },
  "orig_nbformat": 4
 },
 "nbformat": 4,
 "nbformat_minor": 2
}
